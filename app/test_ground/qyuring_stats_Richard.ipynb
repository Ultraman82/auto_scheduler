{
 "cells": [
  {
   "cell_type": "code",
   "execution_count": 32,
   "metadata": {},
   "outputs": [],
   "source": [
    "import pandas as pd\n",
    "from db import call_db_json\n",
    "sql = \"\"\" \n",
    "    SELECT\n",
    "        o.order_number,\n",
    "        o.product_family,\n",
    "        o.product_model,\n",
    "        o.item_description,\n",
    "        o.order_quantity,\n",
    "        o.product_length,\n",
    "        o.reference_number,\n",
    "        l.first_time_out,\n",
    "        l.last_time_out,\n",
    "        facility\n",
    "    FROM\n",
    "        manufacturing_orders o\n",
    "    JOIN (\n",
    "        SELECT\n",
    "            order_number,\n",
    "            MIN(time_out) AS first_time_out,            \n",
    "            MAX(time_out) AS last_time_out,\n",
    "            string_agg(l.facility_id, ' ') as facility\n",
    "        FROM\n",
    "            manufacturing_order_logs l\n",
    "        GROUP BY\n",
    "            order_number\n",
    "    ) l ON o.order_number = l.order_number\n",
    "    WHERE\n",
    "        l.first_time_out >= '2022-01-01' AND l.last_time_out <= '2023-06-30'\n",
    "        AND o.product_family IS NOT NULL\n",
    "        AND o.order_release_code = 5\n",
    "        AND o.order_status = '55'        \n",
    "        AND o.item_description LIKE '%RAIL%'\n",
    "    \"\"\"\n",
    "df = pd.DataFrame(call_db_json(sql))"
   ]
  },
  {
   "cell_type": "code",
   "execution_count": 33,
   "metadata": {},
   "outputs": [],
   "source": [
    "df['days'] = df['last_time_out'] - df['first_time_out']\n",
    "df['total_days'] = df['days'] / pd.to_timedelta(1, unit='D')\n",
    "df['total_days'] = df['total_days'].apply(lambda x: \"{:.1f}\".format(x))\n",
    "df['first_time_out'] = df['first_time_out'].astype(str)\n",
    "df['last_time_out'] = df['last_time_out'].astype(str)\n",
    "df = df.drop(columns=['days'])"
   ]
  },
  {
   "cell_type": "code",
   "execution_count": 30,
   "metadata": {},
   "outputs": [],
   "source": [
    "# def get_gy(facility):\n",
    "#     if \"B0010\" in facility:\n",
    "#         return \"GY1\"\n",
    "#     elif \"C0010\" in facility:\n",
    "#         return \"GY3\"\n",
    "#     elif \"D0010\" in facility:\n",
    "#         return \"GY4\"\n",
    "#     else:\n",
    "#         return \"etc\"\n",
    "# df['gy'] = df['facility'].apply(get_gy)\n"
   ]
  },
  {
   "cell_type": "code",
   "execution_count": 34,
   "metadata": {},
   "outputs": [],
   "source": [
    "df\n",
    "# df = df.drop(columns=['days'])\n",
    "# df = df.rename(columns={'total_days_td':'total_days'})\n",
    "df.to_excel('test.xlsx')"
   ]
  },
  {
   "cell_type": "code",
   "execution_count": null,
   "metadata": {},
   "outputs": [],
   "source": []
  },
  {
   "cell_type": "code",
   "execution_count": null,
   "metadata": {},
   "outputs": [],
   "source": []
  }
 ],
 "metadata": {
  "kernelspec": {
   "display_name": "base",
   "language": "python",
   "name": "python3"
  },
  "language_info": {
   "codemirror_mode": {
    "name": "ipython",
    "version": 3
   },
   "file_extension": ".py",
   "mimetype": "text/x-python",
   "name": "python",
   "nbconvert_exporter": "python",
   "pygments_lexer": "ipython3",
   "version": "3.9.12"
  },
  "orig_nbformat": 4
 },
 "nbformat": 4,
 "nbformat_minor": 2
}
