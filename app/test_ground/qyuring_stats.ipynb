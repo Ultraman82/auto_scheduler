{
 "cells": [
  {
   "cell_type": "code",
   "execution_count": null,
   "metadata": {},
   "outputs": [],
   "source": [
    "sql = \"\"\" \n",
    "    SELECT\n",
    "        mo.product_family,\n",
    "        mo.product_model,\n",
    "        mo.product_variant,\n",
    "        mo.item_description,\n",
    "        mo.order_quantity,\n",
    "        mo.product_length,\n",
    "        mo.reference_number,\n",
    "        mol.time_out,\n",
    "        mol.facility_id\n",
    "    FROM manufacturing_orders mo\n",
    "    JOIN manufacturing_order_logs mol ON mol.order_number = mo.order_number\n",
    "    WHERE mo.order_status = '55'\n",
    "        AND mo.order_release_code = 5\n",
    "        AND mol.time_out >= '2023-01-01'::date\n",
    "        AND mol.time_out <= '2023-06-30'::date\n",
    "        AND mo.product_model IS NOT NULL\n",
    "        AND mo.product_family IS NOT NULL\n",
    "        AND mo.product_length IS NOT NULL\n",
    "        AND mo.reference_number LIKE 'HK%'\n",
    "        AND mo.item_description LIKE '%RAIL%'\n",
    "        AND mo.product_family != 'TS'\n",
    "    ORDER BY mo.order_number;\n",
    "    \"\"\"\n",
    "df = pd.DataFrame(call_db_json(sql))"
   ]
  },
  {
   "cell_type": "code",
   "execution_count": null,
   "metadata": {},
   "outputs": [],
   "source": [
    "df = df[df['item_description'].apply(lambda x: x.find(\"K\") != x.find(\"K)\"))]\n",
    "rename = {'product_variant':'total'}\n",
    "df['total'] = df['order_quantity'] * df['product_length'] / 1000\n",
    "df['total'] = df['total'].astype(int)\n",
    "df['type'] = df['product_family'] + df['product_model']\n",
    "df = df.rename(columns=rename)"
   ]
  },
  {
   "cell_type": "code",
   "execution_count": null,
   "metadata": {},
   "outputs": [],
   "source": [
    "# df.head()\n",
    "grouped = df.groupby(['type', 'facility_id'])\n",
    "summed = grouped['total'].sum()\n",
    "summed = summed.reset_index() \n",
    "df = pd.DataFrame(summed)\n",
    "df = df.pivot_table(index=['type'], columns='facility_id', values=['total']).reset_index()\n",
    "df.fillna(0)\n"
   ]
  }
 ],
 "metadata": {
  "language_info": {
   "name": "python"
  },
  "orig_nbformat": 4
 },
 "nbformat": 4,
 "nbformat_minor": 2
}
