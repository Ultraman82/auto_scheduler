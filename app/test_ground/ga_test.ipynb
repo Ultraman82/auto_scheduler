{
 "cells": [
  {
   "cell_type": "code",
   "execution_count": 26,
   "metadata": {},
   "outputs": [],
   "source": [
    "import json\n",
    "import pandas as pd\n",
    "import random\n",
    "import numpy as np\n",
    "\n",
    "clamp = 10\n",
    "kerf = 10\n",
    "\n",
    "# len, qty, g1, pitch\n",
    "\n",
    "\n",
    "def get_g2(length, g1, pitch):\n",
    "    return (length - g1) % pitch\n",
    "\n",
    "def get_possible_quantity(long_len, long_g1, short_len, short_g1, pitch):\n",
    "    possible_quantity = 0\n",
    "    loss_at_cut = [0]\n",
    "    len_at_point = [long_len]\n",
    "    long_g2 = get_g2(long_len, long_g1, pitch)\n",
    "    while (\n",
    "        (short_g1 + kerf <= long_g1) & ((long_len - long_g1) >= (short_len - short_g1))\n",
    "    ) | ((long_len - long_g1) > short_len):\n",
    "        cut = 1\n",
    "        front_loss = 0\n",
    "        if long_g1 == short_g1:\n",
    "            cut = 0\n",
    "        elif short_g1 < long_g1:\n",
    "            front_loss = long_g1 - short_g1\n",
    "        else:\n",
    "            front_loss = long_g1 + (pitch - short_g1)\n",
    "\n",
    "        short_g2 = get_g2(short_len, short_g1, pitch)\n",
    "        long_g1 = pitch - (short_g2 + kerf)\n",
    "        possible_quantity += 1\n",
    "        long_len -= short_len + front_loss + kerf\n",
    "        if long_len < 0:\n",
    "            break\n",
    "        len_at_point.append(long_len)\n",
    "        loss_at_cut.append(front_loss + kerf * cut)\n",
    "    return possible_quantity, len_at_point, loss_at_cut, long_g1\n"
   ]
  },
  {
   "cell_type": "code",
   "execution_count": 27,
   "metadata": {},
   "outputs": [
    {
     "data": {
      "text/plain": [
       "(4, [3240, 2590, 1930, 1270, 610], [0, 0, 20, 20, 20], 30)"
      ]
     },
     "execution_count": 27,
     "metadata": {},
     "output_type": "execute_result"
    }
   ],
   "source": [
    "get_possible_quantity(3240, 30, 640, 30, 60)"
   ]
  },
  {
   "cell_type": "code",
   "execution_count": 40,
   "metadata": {},
   "outputs": [],
   "source": [
    "# while dem_arr['qty'].sum() > 0:\n",
    "# stock_arr = [\n",
    "#     [3240, 100, 30, 60]\n",
    "# ]\n",
    "# stock = pd.DataFrame(stock_arr, columns=['product_length','qty','product_g1', 'product_pitch'])    \n",
    "dem_arr =[\n",
    "        [640, 12, 30, 60],\n",
    "        [400, 20, 30, 60],\n",
    "        [280, 34, 30, 60],\n",
    "    ]\n",
    "demand = pd.DataFrame(dem_arr, columns=['product_length','qty','product_g1', 'product_pitch'])    \n",
    "source_len = 3240\n",
    "source_g1 = 30\n",
    "longest_index = 0\n",
    "pitch = 60\n",
    "rail_record = {}\n",
    "utilized = 0\n",
    "\n",
    "# while demand['qty'].sum() > 0:\n",
    "longest = demand.loc[0]\n",
    "longest_quantity = longest.qty\n",
    "max_in_source_longest_qty, leng_at_cut, _, drop_g1 = get_possible_quantity(source_len, source_g1, longest.product_length, longest.product_g1, pitch)\n",
    "if longest.qty >= max_in_source_longest_qty:\n",
    "    source_used_qty = longest.qty // max_in_source_longest_qty\n",
    "    longeset_allocated_qty = source_used_qty  * max_in_source_longest_qty\n",
    "    # longest_remainder_quantity = longest.qty % max_in_source_longest_qty\n",
    "    drop1_len = leng_at_cut[max_in_source_longest_qty]\n",
    "else:\n",
    "    drop1_len = leng_at_cut[longest_quantity]\n",
    "    longeset_allocated_qty = longest_quantity\n",
    "utilized += longeset_allocated_qty * longest.product_length\n",
    "pool_df = demand.iloc[1:]\n",
    "# best_index = \n",
    "\n",
    "\n",
    "\n",
    "        "
   ]
  },
  {
   "cell_type": "code",
   "execution_count": 48,
   "metadata": {},
   "outputs": [
    {
     "data": {
      "text/html": [
       "<div>\n",
       "<style scoped>\n",
       "    .dataframe tbody tr th:only-of-type {\n",
       "        vertical-align: middle;\n",
       "    }\n",
       "\n",
       "    .dataframe tbody tr th {\n",
       "        vertical-align: top;\n",
       "    }\n",
       "\n",
       "    .dataframe thead th {\n",
       "        text-align: right;\n",
       "    }\n",
       "</style>\n",
       "<table border=\"1\" class=\"dataframe\">\n",
       "  <thead>\n",
       "    <tr style=\"text-align: right;\">\n",
       "      <th></th>\n",
       "      <th>product_length</th>\n",
       "      <th>qty</th>\n",
       "      <th>product_g1</th>\n",
       "      <th>product_pitch</th>\n",
       "    </tr>\n",
       "  </thead>\n",
       "  <tbody>\n",
       "    <tr>\n",
       "      <th>0</th>\n",
       "      <td>640</td>\n",
       "      <td>12</td>\n",
       "      <td>30</td>\n",
       "      <td>60</td>\n",
       "    </tr>\n",
       "    <tr>\n",
       "      <th>1</th>\n",
       "      <td>400</td>\n",
       "      <td>20</td>\n",
       "      <td>30</td>\n",
       "      <td>60</td>\n",
       "    </tr>\n",
       "    <tr>\n",
       "      <th>2</th>\n",
       "      <td>280</td>\n",
       "      <td>34</td>\n",
       "      <td>30</td>\n",
       "      <td>60</td>\n",
       "    </tr>\n",
       "  </tbody>\n",
       "</table>\n",
       "</div>"
      ],
      "text/plain": [
       "   product_length  qty  product_g1  product_pitch\n",
       "0             640   12          30             60\n",
       "1             400   20          30             60\n",
       "2             280   34          30             60"
      ]
     },
     "execution_count": 48,
     "metadata": {},
     "output_type": "execute_result"
    }
   ],
   "source": [
    "demand"
   ]
  },
  {
   "cell_type": "code",
   "execution_count": 61,
   "metadata": {},
   "outputs": [
    {
     "name": "stdout",
     "output_type": "stream",
     "text": [
      "Minimum number of source rails needed: 5.4074074\n"
     ]
    }
   ],
   "source": [
    "import pulp\n",
    "\n",
    "# Initial data\n",
    "source_rail_length = 3240\n",
    "demand_lengths = [640, 400, 280]\n",
    "demand_quantities = [12, 20, 34]\n",
    "\n",
    "# Create the problem\n",
    "prob = pulp.LpProblem(\"RailCutting\", pulp.LpMinimize)\n",
    "\n",
    "# Variables\n",
    "x_vars = pulp.LpVariable.dicts(\"x\", range(len(demand_lengths)), lowBound=0, cat='Integer')\n",
    "y_vars = pulp.LpVariable.dicts(\"y\", ((i, j) for i in range(len(demand_lengths)) for j in range(int(source_rail_length/demand_lengths[i])+1)), lowBound=0, cat='Binary')\n",
    "\n",
    "# Objective function\n",
    "prob += pulp.lpSum(x_vars[i] for i in range(len(demand_lengths)))\n",
    "\n",
    "# Constraints\n",
    "for i in range(len(demand_lengths)):\n",
    "    prob += pulp.lpSum(y_vars[(i, j)] * demand_lengths[i] for j in range(int(source_rail_length/demand_lengths[i])+1)) <= source_rail_length * x_vars[i]\n",
    "    prob += pulp.lpSum(y_vars[(i, j)] for j in range(int(source_rail_length/demand_lengths[i])+1)) == demand_quantities[i]\n",
    "\n",
    "# Solve the problem\n",
    "prob.solve()\n",
    "\n",
    "# Print results\n",
    "print(f\"Minimum number of source rails needed: {pulp.value(prob.objective)}\")"
   ]
  },
  {
   "cell_type": "code",
   "execution_count": 62,
   "metadata": {},
   "outputs": [
    {
     "data": {
      "text/plain": [
       "25200"
      ]
     },
     "execution_count": 62,
     "metadata": {},
     "output_type": "execute_result"
    }
   ],
   "source": [
    "m = []\n",
    "for i in range(0, 3):\n",
    "    m.append(demand_lengths[i] * demand_quantities[i])\n",
    "sum(m)"
   ]
  },
  {
   "cell_type": "code",
   "execution_count": 86,
   "metadata": {},
   "outputs": [
    {
     "data": {
      "text/plain": [
       "(9,\n",
       " [[640, 640, 640, 640, 400],\n",
       "  [640, 640, 640, 640, 400],\n",
       "  [640, 640, 640, 640, 400],\n",
       "  [400, 400, 400, 400, 400, 400, 400],\n",
       "  [400, 400, 400, 400, 400, 400, 400],\n",
       "  [400, 400, 400, 280, 280, 280, 280, 280, 280],\n",
       "  [280, 280, 280, 280, 280, 280, 280, 280, 280, 280],\n",
       "  [280, 280, 280, 280, 280, 280, 280, 280, 280, 280],\n",
       "  [280, 280, 280, 280, 280, 280, 280, 280],\n",
       "  [],\n",
       "  [],\n",
       "  [],\n",
       "  [],\n",
       "  [],\n",
       "  []])"
      ]
     },
     "execution_count": 86,
     "metadata": {},
     "output_type": "execute_result"
    }
   ],
   "source": [
    "from typing import List, Tuple\n",
    "kerf = 10\n",
    "def rail_allocation_blank(source_rail_length: int, source_rail_qty: int, final_products: List[Tuple[int, int]]):\n",
    "    # Sort final products in descending order by length\n",
    "    final_products.sort(key=lambda x: x[0], reverse=True)\n",
    "\n",
    "    # Initialize source rails as a list with all rails empty\n",
    "    source_rails = [source_rail_length] * source_rail_qty\n",
    "    combination = [[] for i in range(source_rail_qty)]    \n",
    "    # For each type of final product\n",
    "    for length, qty in final_products:\n",
    "        # For each product of this type\n",
    "        for _ in range(qty):\n",
    "            # Find the first source rail where this product can fit\n",
    "            for i, available_length in enumerate(source_rails):\n",
    "                if available_length >= length + kerf:\n",
    "                    # If it fits, place the product on this rail and break the inner loop\n",
    "                    source_rails[i] -= length + kerf\n",
    "                    combination[i].append(length)\n",
    "                    break\n",
    "            else:\n",
    "                # If no fitting rail found, return error\n",
    "                return \"Error: Not enough source rails\"\n",
    "    # Count the number of source rails used\n",
    "    source_rails_used = len([rail for rail in source_rails if rail != source_rail_length])\n",
    "    return source_rails_used, source_rails, combination\n",
    "\n",
    "# Set source rail length and quantity\n",
    "source_rail_length = 3040\n",
    "source_rail_qty = 15\n",
    "\n",
    "# Set final product lengths and quantities\n",
    "final_products = [(640, 12), (400, 20), (280, 34)]  # (length, qty)\n",
    "# final_products = [(1540, 1), (790, 26), (400, 4), (242, 13)]  # (length, qty)\n",
    "\n",
    "# Calculate and print the minimum number of source rails used\n",
    "a, b, c = rail_allocation_blank(source_rail_length, source_rail_qty, final_products)\n",
    "a, c"
   ]
  },
  {
   "cell_type": "code",
   "execution_count": 213,
   "metadata": {},
   "outputs": [],
   "source": [
    "import time\n",
    "\n",
    "def get_g2(length, g1, pitch):\n",
    "    return (length - g1) % pitch\n",
    "\n",
    "fit_memo = {}\n",
    "\n",
    "def check_fit(available, short_len, short_g1, pitch):        \n",
    "    long_len, long_g1 = available    \n",
    "    key = f\"{long_len} {long_g1} {short_len} {short_g1} {pitch}\"\n",
    "    # print(key)\n",
    "    if key in fit_memo.keys():\n",
    "        return fit_memo[key]        \n",
    "    if (\n",
    "        (short_g1 + kerf <= long_g1) & ((long_len - long_g1) >= (short_len - short_g1))\n",
    "    ) | ((long_len - long_g1) > short_len):                \n",
    "        if long_g1 == short_g1:            \n",
    "            front_loss = 0\n",
    "        elif short_g1 < long_g1:\n",
    "            front_loss = long_g1 - short_g1\n",
    "        else:\n",
    "            front_loss = long_g1 + (pitch - short_g1)\n",
    "        short_g2 = get_g2(short_len, short_g1, pitch)\n",
    "        long_g1 = pitch - (short_g2 + kerf)\n",
    "        long_len -= short_len + front_loss + kerf        \n",
    "        fit_memo[key] = [True, long_len, long_g1]        \n",
    "        return True, long_len, long_g1\n",
    "    else:\n",
    "        fit_memo[key] = [False, 0, 0]\n",
    "        return False, _, _\n",
    "                \n",
    "def initial_rail_allocation(source, source_pitch: int, final_products: List[Tuple[int, int, int]]):   \n",
    "    final_products.sort(key=lambda x: x[0], reverse=True)   \n",
    "    source_rails = []\n",
    "    combination = []    \n",
    "    for source in source.itertuples():        \n",
    "        source_rails += [[source.length, source.g1] for i in range(source.qty)]\n",
    "        combination += [[source.length] for i in range(source.qty)]\n",
    "    # print(source_rails)\n",
    "    \n",
    "    for length, qty, g1 in final_products:           \n",
    "        for _ in range(qty):    \n",
    "            for i, available_length in enumerate(source_rails):\n",
    "                does_fit, long_len, long_g1 = check_fit(available_length, length, g1, source_pitch)\n",
    "                if does_fit:    \n",
    "                    source_rails[i] = [long_len, long_g1]\n",
    "                    combination[i].append(length)\n",
    "                    break\n",
    "            else:    \n",
    "                return \"Error: Not enough source rails\", ''\n",
    "    source_sum, source_left, used_sum, counter = 0, 0, 0, 0    \n",
    "    for s, c in zip(source_rails, combination):        \n",
    "        if s[0] == c[0]:\n",
    "            break\n",
    "        source_left += s[0] if s[0] > 0 else 0\n",
    "        source_sum += c[0]        \n",
    "        used_sum += sum(c[1:])\n",
    "        counter += 1\n",
    "    # source_rails_used = len([s for s, c in zip(source_rails, combination) if s[0] != c[0]])    \n",
    "    eff = used_sum / source_sum    \n",
    "    return source_rails[:counter], combination[:counter], eff, source_left\n",
    "\n",
    "source_pitch = 60\n",
    "final_products = [(640, 12, 20), (400, 20, 20), (280, 34, 10)]  # (length, qty, g1)\n",
    "source_df = pd.DataFrame([[7000, 2, 20], [3000, 10, 30]], columns=['length', 'qty', 'g1'])\n",
    "source_rails, combination, eff, source_left = initial_rail_allocation(source_df, source_pitch, final_products)\n"
   ]
  },
  {
   "cell_type": "code",
   "execution_count": 214,
   "metadata": {},
   "outputs": [
    {
     "data": {
      "text/plain": [
       "2490"
      ]
     },
     "execution_count": 214,
     "metadata": {},
     "output_type": "execute_result"
    }
   ],
   "source": [
    "source_left\n"
   ]
  },
  {
   "cell_type": "code",
   "execution_count": 208,
   "metadata": {},
   "outputs": [
    {
     "data": {
      "text/plain": [
       "[[7000, 640, 640, 640, 640, 640, 640, 640, 640, 640, 640, 400],\n",
       " [7000,\n",
       "  640,\n",
       "  640,\n",
       "  400,\n",
       "  400,\n",
       "  400,\n",
       "  400,\n",
       "  400,\n",
       "  400,\n",
       "  400,\n",
       "  400,\n",
       "  400,\n",
       "  400,\n",
       "  400,\n",
       "  400,\n",
       "  400],\n",
       " [3000, 400, 400, 400, 400, 400, 400, 280],\n",
       " [3000, 280, 280, 280, 280, 280, 280, 280, 280, 280, 280],\n",
       " [3000, 280, 280, 280, 280, 280, 280, 280, 280, 280, 280],\n",
       " [3000, 280, 280, 280, 280, 280, 280, 280, 280, 280, 280],\n",
       " [3000, 280, 280, 280]]"
      ]
     },
     "execution_count": 208,
     "metadata": {},
     "output_type": "execute_result"
    }
   ],
   "source": [
    "combination"
   ]
  },
  {
   "cell_type": "code",
   "execution_count": 209,
   "metadata": {},
   "outputs": [
    {
     "data": {
      "text/plain": [
       "0.8689655172413793"
      ]
     },
     "execution_count": 209,
     "metadata": {},
     "output_type": "execute_result"
    }
   ],
   "source": [
    "eff"
   ]
  },
  {
   "cell_type": "code",
   "execution_count": null,
   "metadata": {},
   "outputs": [],
   "source": []
  }
 ],
 "metadata": {
  "kernelspec": {
   "display_name": "base",
   "language": "python",
   "name": "python3"
  },
  "language_info": {
   "codemirror_mode": {
    "name": "ipython",
    "version": 3
   },
   "file_extension": ".py",
   "mimetype": "text/x-python",
   "name": "python",
   "nbconvert_exporter": "python",
   "pygments_lexer": "ipython3",
   "version": "3.9.12"
  },
  "orig_nbformat": 4
 },
 "nbformat": 4,
 "nbformat_minor": 2
}
