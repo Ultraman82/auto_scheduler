{
 "cells": [
  {
   "cell_type": "code",
   "execution_count": 27,
   "metadata": {},
   "outputs": [],
   "source": [
    "from db import call_ignition\n",
    "from queries import stock_all, proc, update_processing, post_carts \n",
    "from release_gy3 import get_stock, check_type, get_default_item_number, generate_sql_string\n",
    "import pandas as pd\n",
    "import numpy as np\n",
    "from datetime import timedelta, date, datetime\n",
    "import re\n",
    "import os\n",
    "stock_all()\n",
    "# set_kanban(False)\n",
    "update_processing()\n",
    "# await grinding_exh()"
   ]
  },
  {
   "cell_type": "code",
   "execution_count": 28,
   "metadata": {},
   "outputs": [
    {
     "name": "stdout",
     "output_type": "stream",
     "text": [
      "('R-M146113', 'Warehouse', NOW(), true, false, true, null, 'R-M146113', 'GY3', '1234',  16, 'RELEASED', ARRAY['M146113', 'M146114'])\n",
      "('R-M146107', 'Warehouse', NOW(), true, false, true, null, 'R-M146107', 'GY3', '1234',  16, 'RELEASED', ARRAY['M146107', 'M146108'])\n"
     ]
    }
   ],
   "source": [
    "test = proc.HKC10[:4]\n",
    "grouped = test.groupby('item_description')\n",
    "missed_df = grouped.first()\n",
    "missed_df['order_quantity'] = grouped[\"order_quantity\"].sum()\n",
    "missed_df['order_number'] = grouped[\"order_number\"].apply(np.array)\n",
    "def generate_sql_string(row, item_number):\n",
    "    cart_id = \"R-\" + row.order_number[0]    \n",
    "    quantity = str(int(row.order_quantity))\n",
    "    mos = f\"ARRAY{list(row.order_number)}\"\n",
    "    return f\"('{cart_id}', 'Warehouse', NOW(), true, false, true, null, '{cart_id}', 'GY3', '{item_number}',  {quantity}, 'RELEASED', {mos})\"\n",
    "for row in missed_df.itertuples():\n",
    "    print(generate_sql_string(row, 1234))\n"
   ]
  },
  {
   "cell_type": "code",
   "execution_count": 30,
   "metadata": {},
   "outputs": [
    {
     "name": "stdout",
     "output_type": "stream",
     "text": [
      "SR35\n",
      "('R-M232161', 'Warehouse', NOW(), true, false, true, null, 'R-M232161', 'GY3', '800435200B25200',  1, 'RELEASED', ARRAY['M232161'])\n"
     ]
    }
   ],
   "source": [
    "def post_missing_mo_to_batches():\n",
    "    sql = \"\"\"\n",
    "        SELECT order_id FROM ignition.production_schedule.batch_orders    \n",
    "    \"\"\"\n",
    "    batch_mos = pd.DataFrame(call_ignition(sql))[\"order_id\"].to_list()\n",
    "    df = proc.HKC10\n",
    "    missed_df = df[~df[\"order_number\"].isin(batch_mos) & (df[\"facility_id\"] < \"F0010\")]\n",
    "    if len(missed_df):\n",
    "        grouped = missed_df.groupby(\"item_description\")\n",
    "        missed_df_grouped = grouped.first()\n",
    "        missed_df_grouped[\"order_quantity\"] = grouped[\"order_quantity\"].sum()\n",
    "        missed_df_grouped[\"order_number\"] = grouped[\"order_number\"].apply(np.array)\n",
    "        source_map_df = pd.DataFrame(\n",
    "            columns=[\"rail_type\", \"type\", \"item_number\"]\n",
    "        ).set_index([\"rail_type\", \"type\"])\n",
    "        stock_df, _ = get_stock()\n",
    "        total_item = []\n",
    "        missed_df_grouped = missed_df_grouped.reset_index()\n",
    "        for row in missed_df_grouped.itertuples(): \n",
    "            rail_type = row.product_family + row.product_model\n",
    "            print(rail_type)\n",
    "            type = check_type(row.item_description, \"stock\")\n",
    "            item_number = get_default_item_number(\n",
    "                stock_df, source_map_df, rail_type, type\n",
    "            )\n",
    "            total_item.append(generate_sql_string(row, item_number))\n",
    "        print(\",\".join(total_item))\n",
    "        # print(missed_df_grouped.order_number.to_list())\n",
    "        # return post_carts(\",\".join(total_item), from_back_end=True)\n",
    "    # return 0\n",
    "\n",
    "post_missing_mo_to_batches()\n"
   ]
  },
  {
   "cell_type": "code",
   "execution_count": null,
   "metadata": {},
   "outputs": [],
   "source": []
  }
 ],
 "metadata": {
  "kernelspec": {
   "display_name": "base",
   "language": "python",
   "name": "python3"
  },
  "language_info": {
   "codemirror_mode": {
    "name": "ipython",
    "version": 3
   },
   "file_extension": ".py",
   "mimetype": "text/x-python",
   "name": "python",
   "nbconvert_exporter": "python",
   "pygments_lexer": "ipython3",
   "version": "3.9.12"
  },
  "orig_nbformat": 4,
  "vscode": {
   "interpreter": {
    "hash": "38048958c688c1a39ef706950e74dea1c949308db761d125d4de67d90acf9f05"
   }
  }
 },
 "nbformat": 4,
 "nbformat_minor": 2
}
