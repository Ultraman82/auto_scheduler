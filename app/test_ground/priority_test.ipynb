{
 "cells": [
  {
   "cell_type": "code",
   "execution_count": 3,
   "metadata": {},
   "outputs": [],
   "source": [
    "# from db import call_db, call_ignition, call_db_json, update_ignition, update_db, force_cancel_rail, config\n",
    "import warnings\n",
    "warnings.simplefilter(action=\"ignore\", category=FutureWarning)\n",
    "import pandas as pd\n",
    "import numpy as np\n",
    "from datetime import timedelta, date, datetime\n",
    "import os\n",
    "from queries import demand_all, demand\n",
    "demand_all()"
   ]
  },
  {
   "cell_type": "code",
   "execution_count": 12,
   "metadata": {},
   "outputs": [
    {
     "name": "stdout",
     "output_type": "stream",
     "text": [
      "Index(['product_length', 'product_family', 'product_model', 'item_description',\n",
      "       'printed_due', 'qty', 'mos', 'item_number', 'product_g1',\n",
      "       'product_pitch', 'facility_id', 'reference_number',\n",
      "       'order_scheduled_due', 'gy'],\n",
      "      dtype='object')\n"
     ]
    }
   ],
   "source": [
    "def get_5566():\n",
    "    test = demand.GY1\n",
    "    df = test[\n",
    "        test[\"product_model\"].isin([\"55\", \"65\"])\n",
    "        & (test[\"order_scheduled_due\"] < date.today() + timedelta(91))\n",
    "    ].sort_values(\"order_scheduled_due\")\n",
    "    df['total_meter'] = df['product_length'] * df['qty'] / 1000    \n",
    "    for i, t in df.groupby(['product_family', 'product_model']):\n",
    "        product_type = i[0] + i[1]\n",
    "        print(product_type)\n",
    "        t\n",
    "    \n",
    "    # return df.to_json(orient=\"records\")\n",
    "get_5566()"
   ]
  },
  {
   "cell_type": "code",
   "execution_count": null,
   "metadata": {},
   "outputs": [],
   "source": []
  }
 ],
 "metadata": {
  "kernelspec": {
   "display_name": "base",
   "language": "python",
   "name": "python3"
  },
  "language_info": {
   "codemirror_mode": {
    "name": "ipython",
    "version": 3
   },
   "file_extension": ".py",
   "mimetype": "text/x-python",
   "name": "python",
   "nbconvert_exporter": "python",
   "pygments_lexer": "ipython3",
   "version": "3.9.12"
  },
  "orig_nbformat": 4,
  "vscode": {
   "interpreter": {
    "hash": "38048958c688c1a39ef706950e74dea1c949308db761d125d4de67d90acf9f05"
   }
  }
 },
 "nbformat": 4,
 "nbformat_minor": 2
}
