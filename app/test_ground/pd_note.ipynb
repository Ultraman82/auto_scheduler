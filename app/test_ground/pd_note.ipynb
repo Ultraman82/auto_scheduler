{
 "cells": [
  {
   "cell_type": "code",
   "execution_count": null,
   "metadata": {},
   "outputs": [],
   "source": [
    "mos = batch_order2.groupby('batch_id', as_index = False)['order_id'].agg({'mos': ' '.join})"
   ]
  },
  {
   "cell_type": "code",
   "execution_count": null,
   "metadata": {},
   "outputs": [],
   "source": [
    "df['data'] = df.apply(lambda r: tuple(r[4:-1]), axis=1).apply(np.array)"
   ]
  },
  {
   "cell_type": "code",
   "execution_count": null,
   "metadata": {},
   "outputs": [],
   "source": [
    "set_df = all_df[~all_df['item_description'].str.contains('RAIL|BLOCK')]"
   ]
  },
  {
   "cell_type": "code",
   "execution_count": null,
   "metadata": {},
   "outputs": [],
   "source": [
    "temp_df = df[~df['item_description'].str.contains('RAIL|BLOCK')].copy()"
   ]
  },
  {
   "cell_type": "code",
   "execution_count": null,
   "metadata": {},
   "outputs": [],
   "source": [
    "data.loc[data.bidder == 'parakeet2004', 'bidderrate'] = 100"
   ]
  },
  {
   "cell_type": "code",
   "execution_count": null,
   "metadata": {},
   "outputs": [],
   "source": [
    "import re\n",
    "t = 'SHS30-3220 HALF RAIL 3 BLANK'\n",
    "x = re.search(\"\\d{4}\", t)\n",
    "print(x.group())\n"
   ]
  },
  {
   "cell_type": "code",
   "execution_count": null,
   "metadata": {},
   "outputs": [],
   "source": [
    "Activity.sort(key=lambda x: x[1])"
   ]
  },
  {
   "cell_type": "code",
   "execution_count": 4,
   "metadata": {},
   "outputs": [
    {
     "name": "stdout",
     "output_type": "stream",
     "text": [
      "01234"
     ]
    }
   ],
   "source": [
    "print(i, end = \"\")"
   ]
  },
  {
   "cell_type": "code",
   "execution_count": null,
   "metadata": {},
   "outputs": [],
   "source": [
    "df_sorted = df.sort_values(by=['A', 'B'], ascending=[True, False])"
   ]
  },
  {
   "cell_type": "code",
   "execution_count": null,
   "metadata": {},
   "outputs": [],
   "source": [
    "mo_pool[r.product_length].append(r._asdict())"
   ]
  },
  {
   "cell_type": "code",
   "execution_count": null,
   "metadata": {},
   "outputs": [],
   "source": [
    "for r in rail_map.itertuples():    \n",
    "    # print(all(x in r.used_lengths for x in [1378, 242]))\n",
    "    print(set([1378, 242]).issubset(set(r.used_lengths)))"
   ]
  },
  {
   "cell_type": "code",
   "execution_count": null,
   "metadata": {},
   "outputs": [],
   "source": [
    "from collections import defaultdict, deque, Counter\n",
    "from operator import itemgetter\n",
    "\n",
    "allo_map = []\n",
    "for r in rail_map.itertuples():\n",
    "    c = Counter(r.used_lengths)\n",
    "    c['id'] = r[0]\n",
    "    c['qty'] = r.qty\n",
    "    c['key'] = set(r.used_lengths)\n",
    "    # rail_map.loc[r[0], \"map\"] = dict(c)\n",
    "    allo_map.append(dict(c))"
   ]
  },
  {
   "cell_type": "code",
   "execution_count": null,
   "metadata": {},
   "outputs": [],
   "source": [
    "a = a.pivot_table(index=['item_type', 'week'], columns='gy', values=['qty', 'mos'], aggfunc={'qty': 'sum', \"mos\": \", \".join}).reset_index()\n"
   ]
  },
  {
   "cell_type": "code",
   "execution_count": null,
   "metadata": {},
   "outputs": [],
   "source": [
    "df = pd.read_csv('./data_storage/GY2 Block Quantities.csv')\n",
    "df = df.melt(id_vars=['item_number', 'item_description', 'unit_length'], value_vars=['a', 'b', 'c', 'd'], var_name='column', value_name='values').dropna()\n",
    "df[['length', 'cut_qty']] = df['values'].str.split('=', expand=True).astype(int)\n",
    "df['item_type'] = df['item_description'].apply(lambda x: x.split(\" \")[0])\n",
    "df.drop(columns=['values', 'column', 'item_description', 'item_number'], inplace=True)\n",
    "insert_many_with_df('ignition', df, 'initial_release.drawn_block_map')\n"
   ]
  }
 ],
 "metadata": {
  "kernelspec": {
   "display_name": "base",
   "language": "python",
   "name": "python3"
  },
  "language_info": {
   "codemirror_mode": {
    "name": "ipython",
    "version": 3
   },
   "file_extension": ".py",
   "mimetype": "text/x-python",
   "name": "python",
   "nbconvert_exporter": "python",
   "pygments_lexer": "ipython3",
   "version": "3.9.12"
  },
  "orig_nbformat": 4,
  "vscode": {
   "interpreter": {
    "hash": "38048958c688c1a39ef706950e74dea1c949308db761d125d4de67d90acf9f05"
   }
  }
 },
 "nbformat": 4,
 "nbformat_minor": 2
}
