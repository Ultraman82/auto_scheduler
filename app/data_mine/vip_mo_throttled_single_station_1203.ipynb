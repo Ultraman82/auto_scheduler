{
 "cells": [
  {
   "cell_type": "code",
   "execution_count": null,
   "metadata": {},
   "outputs": [],
   "source": [
    "import pandas as pd\n",
    "import multiprocessing as mp\n",
    "import numpy as np\n",
    "from tqdm import tqdm\n",
    "\n",
    "logs = pd.read_csv(\"./data_nov/logs_nov.csv\")\n",
    "proc = pd.read_csv(\"./data_nov/processes_nov.csv\")\n",
    "orders = pd.read_csv(\"./data_nov/orders_nov.csv\")\n",
    "logs.time_out = pd.to_datetime(logs.time_out, infer_datetime_format=True)\n",
    "orders.set_index('order_number', inplace=True)"
   ]
  },
  {
   "cell_type": "code",
   "execution_count": null,
   "metadata": {},
   "outputs": [],
   "source": [
    "vip_orders = orders[(~orders.product_length.isnull()) & (orders.order_status == 55) & orders.reference_number.str.startswith('HK') & (orders.item_description.str.contains('RAIL'))].copy()\n",
    "vip_orders['y'] = 0\n",
    "vip_orders['total_steps'] = 0\n",
    "vip_orders['cur_step'] = 0\n",
    "vip_mos = vip_orders.index.values.tolist()\n",
    "vip_logs = logs[(logs.order_number.isin(vip_mos)) & (logs.quantity_complete != 0)].copy()\n",
    "vip_logs.sort_values('sequence_code', ascending=True, inplace=True)\n",
    "drop_cols = ['customer_job_number', 'reference_number', 'item_number', 'product_variant', 'product_clearance',  'product_block_count', 'product_g1', 'product_pitch',  'order_status', 'order_release_code', 'order_customer_name', 'order_replied_due', 'order_scheduled_due', 'order_original_due', 'order_scheduled_shipping_date', 'order_class', 'promise_date', 'sales_item_number', 'printed_due']\n",
    "vip_orders = vip_orders.drop(columns=drop_cols)\n",
    "vip_logs['time_out'] = pd.to_datetime(vip_logs['time_out'])\n"
   ]
  },
  {
   "cell_type": "code",
   "execution_count": null,
   "metadata": {},
   "outputs": [],
   "source": [
    "combined = ['item_description','product_family', 'product_model', 'product_length',\n",
    "'order_quantity', 'D0010', 'D0020', 'F0010', 'C0010',\n",
    "'C0020', 'C0060', 'C0080', 'C0090', 'K0010', 'K0020', 'B0010', 'B0020',\n",
    "'B0021', 'B0025', 'B0060', 'B0080', 'C0075', 'J0020', 'K0011', 'C0070',\n",
    "'C0100', 'C0110', 'C0120', 'H0010', 'H0020', 'H0030', 'H0070', 'J0050',\n",
    "'J0060', 'B0012', 'B0040', 'B0070', 'C0040', 'B0062', 'C0050', 'C0030',\n",
    "'C0031', 'C0035', 'H0046', 'GL010', 'GL130', 'GL140', 'B0050', 'H0045',\n",
    "'H0060', 'H0050', 'B0030', 'F0020', 'J0025', 'B0015', 'GL030', 'H0051', 'total_steps', 'cur_step', 'y']"
   ]
  },
  {
   "cell_type": "code",
   "execution_count": null,
   "metadata": {},
   "outputs": [],
   "source": [
    "THROTTLE_MIN = 1800\n",
    "vip_mos = vip_orders.index.values.tolist()\n",
    "off_days = ['2021-09-04', '2021-09-05', '2021-09-11', '2021-09-12', '2021-09-18', '2021-09-19', '2021-09-25', '2021-09-26', '2021-10-02', '2021-10-03', '2021-10-09', '2021-10-10', '2021-10-16', '2021-10-17', '2021-10-23', '2021-10-24', '2021-10-30', '2021-10-31', '2021-11-06', '2021-11-07', '2021-11-13', '2021-11-14', '2021-11-20', '2021-11-21', '2021-11-25', '2021-11-26', '2021-11-27', '2021-11-28', '2021-12-04', '2021-12-05', '2021-12-11', '2021-12-12', '2021-12-18', '2021-12-19', '2021-12-23', '2021-12-24', '2021-12-25', '2021-12-26', '2022-01-01', '2022-01-02', '2022-01-03', '2022-01-08', '2022-01-09', '2022-01-15', '2022-01-16', '2022-01-22', '2022-01-23', '2022-01-29', '2022-01-30', '2022-02-05', '2022-02-06', '2022-02-12', '2022-02-13', '2022-02-19', '2022-02-20', '2022-02-26', '2022-02-27', '2022-03-05', '2022-03-06', '2022-03-12', '2022-03-13', '2022-03-19', '2022-03-20', '2022-03-26', '2022-03-27', '2022-04-02', '2022-04-03', '2022-04-09', '2022-04-10', '2022-04-16', '2022-04-17', '2022-04-23', '2022-04-24', '2022-04-30', '2022-05-01', '2022-05-07', '2022-05-08', '2022-05-14', '2022-05-15', '2022-05-21', '2022-05-22', '2022-05-28', '2022-05-29', '2022-05-30', '2022-06-04', '2022-06-05', '2022-06-11', '2022-06-12', '2022-06-18', '2022-06-19', '2022-06-25', '2022-06-26', '2022-07-02', '2022-07-03', '2022-07-04', '2022-07-05', '2022-07-09', '2022-07-10', '2022-07-16', '2022-07-17', '2022-07-23', '2022-07-24', '2022-07-30', '2022-07-31', '2022-08-06', '2022-08-07', '2022-08-13', '2022-08-14', '2022-08-20', '2022-08-21', '2022-08-27', '2022-08-28', '2022-09-03', '2022-09-04', '2022-09-05', '2022-09-10', '2022-09-11', '2022-09-17', '2022-09-18', '2022-09-24', '2022-09-25', '2022-10-01', '2022-10-02', '2022-10-08', '2022-10-09', '2022-10-15', '2022-10-16', '2022-10-22', '2022-10-23', '2022-10-29', '2022-10-30', '2022-11-05', '2022-11-06']\n",
    "o_days = pd.to_datetime(off_days, infer_datetime_format=True, utc=True)\n",
    "answer = pd.DataFrame(index=range(224592),columns=combined)\n",
    "ind = 0\n",
    "def f(mo):      \n",
    "    mo_logs = vip_logs[vip_logs.order_number == mo].sort_values('sequence_code')    \n",
    "    mo_logs = mo_logs.drop_duplicates(subset=['sequence_code'], keep='first')    \n",
    "    mo_logs = mo_logs.drop_duplicates(subset=['facility_id'], keep='first')    \n",
    "    mo_logs['start'] = mo_logs['time_out'].shift(1)\n",
    "    mo_logs['diff'] = mo_logs['time_out'].diff(periods=1).astype('timedelta64[m]')                \n",
    "    mo_logs['wcount'] = 0\n",
    "    mo_logs['diff2'] = 0\n",
    "    \n",
    "    if len(mo_logs[mo_logs['diff'] < 0]):\n",
    "        print('negative', mo)\n",
    "        return\n",
    "    try:                    \n",
    "        for index, start, time_out in zip(mo_logs.index.tolist(), mo_logs['start'], mo_logs['time_out']):                                \n",
    "                mo_logs.loc[index, 'wcount'] = len(list(x for x in o_days if (start < x < time_out)))        \n",
    "        mo_logs['diff2'] = mo_logs['diff'] - mo_logs['wcount'] * 1440        \n",
    "        mo_logs.loc[mo_logs['diff2'] > THROTTLE_MIN, 'diff2'] = THROTTLE_MIN                \n",
    "        facilites = mo_logs['facility_id'].values[1:]\n",
    "        durations = mo_logs['diff2'].values[1:]                \n",
    "        return mo, facilites, durations            \n",
    "    except Exception as e: print(mo, e)\n",
    "\n",
    "def append_res(result):      \n",
    "    global ind          \n",
    "    for i in result:\n",
    "        if i:      \n",
    "            mo, facilites, durations = i      \n",
    "            try:                                               \n",
    "                vip_orders.loc[mo, 'total_steps'] = len(facilites)\n",
    "                cur_step = 0\n",
    "                acc_duration = 0                \n",
    "                for facility, duration in zip(facilites, durations):                    \n",
    "                    vip_orders.loc[mo, facility] = 1\n",
    "                    cur_step += 1\n",
    "                    acc_duration += duration\n",
    "                    vip_orders.loc[mo, 'cur_step'] = cur_step\n",
    "                    vip_orders.loc[mo, 'y'] = acc_duration            \n",
    "                    answer.loc[ind] = vip_orders.loc[mo].copy()\n",
    "                    ind += 1                \n",
    "            except Exception as e: print(e)\n",
    "\n",
    "if __name__ == \"__main__\":        \n",
    "    with mp.Pool(16) as pool:        \n",
    "        print('pool started')\n",
    "        results = pool.map_async(f, vip_mos, callback = append_res)\n",
    "        # results = pool.map_async(f, vip_mos)\n",
    "        results.wait() \n",
    "print(\"done\")\n",
    "answer.describe()"
   ]
  },
  {
   "cell_type": "code",
   "execution_count": null,
   "metadata": {},
   "outputs": [],
   "source": [
    "answer = answer[~answer['y'].isnull()]\n",
    "len(answer)"
   ]
  },
  {
   "cell_type": "code",
   "execution_count": 19,
   "metadata": {},
   "outputs": [],
   "source": [
    "test = answer.copy()\n",
    "test['ZLE'] = np.where(test['item_description'].str.count('LE'), 1, 0)\n",
    "test['ZGK'] = np.where(test['item_description'].str.count('GK'), 1, 0)\n",
    "test['ZLT'] = np.where(test['item_description'].str.count('LT'), 1, 0)\n",
    "test['ZGP'] = np.where(test['item_description'].str.count('GP'), 1, 0)\n",
    "test['product_length'] = test['product_length'] / 1000\n",
    "test['y'] = test['y'] / 60\n",
    "test.fillna(0, inplace=True)\n",
    "dimension = len(test.columns) - 1\n"
   ]
  },
  {
   "cell_type": "code",
   "execution_count": 20,
   "metadata": {},
   "outputs": [
    {
     "name": "stdout",
     "output_type": "stream",
     "text": [
      "Index([0, 'HCR', 'HDR', 'HRW', 'HSR', 'SHS', 'SHW', 'SR', 'SRS', 'SRS-W'], dtype='object')\n",
      "Index([        0,      '12',      '15', '15/300R',      '17',      '20',\n",
      "            '21',      '25',      '27',      '30',      '35',      '45',\n",
      "       '45/800R',      '55',      '65',       '9',      '9X'],\n",
      "      dtype='object')\n"
     ]
    }
   ],
   "source": [
    "list_classify = [\"product_family\", \"product_model\"]\n",
    "for i in list_classify:    \n",
    "    test[i], uniques = pd.factorize(test[i], sort=True)    \n",
    "    print(uniques)\n",
    "test = test[combined[1:]]\n",
    "shuffled = test.sample(frac=1)\n",
    "pivot = int(len(test) * .1)\n",
    "train = shuffled.iloc[pivot:].copy()\n",
    "val = shuffled.iloc[:pivot].copy()\n",
    "train = train.astype(float)\n",
    "val = val.astype(float)"
   ]
  },
  {
   "cell_type": "code",
   "execution_count": 22,
   "metadata": {},
   "outputs": [
    {
     "data": {
      "text/plain": [
       "59"
      ]
     },
     "execution_count": 22,
     "metadata": {},
     "output_type": "execute_result"
    }
   ],
   "source": [
    "len(test.columns)"
   ]
  },
  {
   "cell_type": "code",
   "execution_count": 23,
   "metadata": {},
   "outputs": [],
   "source": [
    "import torch\n",
    "import numpy as np\n",
    "import pandas as pd\n",
    "from torch.utils.data import Dataset, DataLoader\n",
    "import torch.nn as nn\n",
    "import torch.nn.functional as F\n",
    "\n",
    "class MyDataset(Dataset):   \n",
    "  def __init__(self,data):     \n",
    "    super(MyDataset).__init__()\n",
    "    x=data.iloc[:,0:58].values\n",
    "    y=data.iloc[:,58].values     \n",
    "    self.x_train=torch.tensor(x,dtype=torch.float32).cuda()    \n",
    "    self.y_train=torch.tensor(y,dtype=torch.float32).view(-1, 1).cuda()    \n",
    " \n",
    "  def __len__(self):\n",
    "    return len(self.y_train)   \n",
    "  def __getitem__(self,idx):\n",
    "    return self.x_train[idx],self.y_train[idx]\n",
    " \n",
    "  def __len__(self):\n",
    "    return len(self.x_train)   \n",
    "  def __getitem__(self,idx):\n",
    "    return self.x_train[idx],self.y_train[idx]\n",
    "\n",
    "train_set=MyDataset(train)\n",
    "val_set=MyDataset(val)\n",
    "train_dl=DataLoader(train_set, batch_size=256, shuffle=True, num_workers=0)\n",
    "val_dl=DataLoader(val_set, batch_size=len(val_set))"
   ]
  },
  {
   "cell_type": "code",
   "execution_count": 24,
   "metadata": {},
   "outputs": [
    {
     "name": "stdout",
     "output_type": "stream",
     "text": [
      "588.0640258789062 0\n",
      "val_err:  127.95497179031372\n",
      "448.9702453613281 10\n",
      "val_err:  85.48399806022644\n",
      "316.9205322265625 20\n",
      "val_err:  78.45739126205444\n",
      "312.27288818359375 30\n",
      "val_err:  78.29025983810425\n",
      "263.7007141113281 40\n",
      "val_err:  77.92910933494568\n",
      "347.0400085449219 50\n",
      "val_err:  80.0000250339508\n",
      "481.3423767089844 60\n",
      "val_err:  77.35064625740051\n",
      "356.8951721191406 70\n",
      "val_err:  78.71100306510925\n",
      "348.1722717285156 80\n",
      "val_err:  78.00238728523254\n",
      "261.3226318359375 90\n",
      "val_err:  78.51866483688354\n",
      "265.8144836425781 100\n",
      "val_err:  75.52003264427185\n",
      "422.6971130371094 110\n",
      "val_err:  78.52603793144226\n",
      "386.86175537109375 120\n",
      "val_err:  74.41136837005615\n",
      "399.2859191894531 130\n",
      "val_err:  79.65936660766602\n",
      "317.7434997558594 140\n",
      "val_err:  77.54520773887634\n",
      "278.7809753417969 150\n",
      "val_err:  74.32677745819092\n",
      "302.62298583984375 160\n",
      "val_err:  75.46496391296387\n",
      "287.3844299316406 170\n",
      "val_err:  79.89340424537659\n",
      "243.50186157226562 180\n",
      "val_err:  82.28708505630493\n",
      "346.1545104980469 190\n",
      "val_err:  76.24913454055786\n",
      "414.13970947265625 200\n",
      "val_err:  80.52080273628235\n",
      "263.14239501953125 210\n",
      "val_err:  75.1524567604065\n",
      "336.3409118652344 220\n",
      "val_err:  74.39028024673462\n",
      "275.0062255859375 230\n",
      "val_err:  75.6796658039093\n",
      "355.18865966796875 240\n",
      "val_err:  79.098379611969\n",
      "326.3969421386719 250\n",
      "val_err:  76.66469216346741\n"
     ]
    },
    {
     "ename": "KeyboardInterrupt",
     "evalue": "",
     "output_type": "error",
     "traceback": [
      "\u001b[0;31m---------------------------------------------------------------------------\u001b[0m",
      "\u001b[0;31mKeyboardInterrupt\u001b[0m                         Traceback (most recent call last)",
      "\u001b[1;32m/home/edgar/miner/vip_mo_throttled_single_station_1203.ipynb Cell 10\u001b[0m in \u001b[0;36m<cell line: 44>\u001b[0;34m()\u001b[0m\n\u001b[1;32m     <a href='vscode-notebook-cell://wsl%2Bubuntu-20.04/home/edgar/miner/vip_mo_throttled_single_station_1203.ipynb#X20sdnNjb2RlLXJlbW90ZQ%3D%3D?line=41'>42</a>\u001b[0m model \u001b[39m=\u001b[39m SimpleNet()\u001b[39m.\u001b[39mcuda()\n\u001b[1;32m     <a href='vscode-notebook-cell://wsl%2Bubuntu-20.04/home/edgar/miner/vip_mo_throttled_single_station_1203.ipynb#X20sdnNjb2RlLXJlbW90ZQ%3D%3D?line=42'>43</a>\u001b[0m opt \u001b[39m=\u001b[39m torch\u001b[39m.\u001b[39moptim\u001b[39m.\u001b[39mSGD(model\u001b[39m.\u001b[39mparameters(), \u001b[39m1e-6\u001b[39m, momentum\u001b[39m=\u001b[39m\u001b[39m0.9\u001b[39m)\n\u001b[0;32m---> <a href='vscode-notebook-cell://wsl%2Bubuntu-20.04/home/edgar/miner/vip_mo_throttled_single_station_1203.ipynb#X20sdnNjb2RlLXJlbW90ZQ%3D%3D?line=43'>44</a>\u001b[0m fit(\u001b[39m1000\u001b[39;49m, model, loss_fn, opt)\n",
      "\u001b[1;32m/home/edgar/miner/vip_mo_throttled_single_station_1203.ipynb Cell 10\u001b[0m in \u001b[0;36mfit\u001b[0;34m(num_epochs, model, loss_fn, opt)\u001b[0m\n\u001b[1;32m      <a href='vscode-notebook-cell://wsl%2Bubuntu-20.04/home/edgar/miner/vip_mo_throttled_single_station_1203.ipynb#X20sdnNjb2RlLXJlbW90ZQ%3D%3D?line=2'>3</a>\u001b[0m val_best  \u001b[39m=\u001b[39m \u001b[39m26\u001b[39m\n\u001b[1;32m      <a href='vscode-notebook-cell://wsl%2Bubuntu-20.04/home/edgar/miner/vip_mo_throttled_single_station_1203.ipynb#X20sdnNjb2RlLXJlbW90ZQ%3D%3D?line=3'>4</a>\u001b[0m \u001b[39mfor\u001b[39;00m epoch \u001b[39min\u001b[39;00m \u001b[39mrange\u001b[39m(num_epochs):        \n\u001b[0;32m----> <a href='vscode-notebook-cell://wsl%2Bubuntu-20.04/home/edgar/miner/vip_mo_throttled_single_station_1203.ipynb#X20sdnNjb2RlLXJlbW90ZQ%3D%3D?line=4'>5</a>\u001b[0m     \u001b[39mfor\u001b[39;00m xb,yb \u001b[39min\u001b[39;00m train_dl:            \n\u001b[1;32m      <a href='vscode-notebook-cell://wsl%2Bubuntu-20.04/home/edgar/miner/vip_mo_throttled_single_station_1203.ipynb#X20sdnNjb2RlLXJlbW90ZQ%3D%3D?line=5'>6</a>\u001b[0m         pred \u001b[39m=\u001b[39m model(xb)\n\u001b[1;32m      <a href='vscode-notebook-cell://wsl%2Bubuntu-20.04/home/edgar/miner/vip_mo_throttled_single_station_1203.ipynb#X20sdnNjb2RlLXJlbW90ZQ%3D%3D?line=6'>7</a>\u001b[0m         loss \u001b[39m=\u001b[39m loss_fn(pred, yb)\n",
      "File \u001b[0;32m~/miniconda3/lib/python3.9/site-packages/torch/utils/data/dataloader.py:681\u001b[0m, in \u001b[0;36m_BaseDataLoaderIter.__next__\u001b[0;34m(self)\u001b[0m\n\u001b[1;32m    678\u001b[0m \u001b[39mif\u001b[39;00m \u001b[39mself\u001b[39m\u001b[39m.\u001b[39m_sampler_iter \u001b[39mis\u001b[39;00m \u001b[39mNone\u001b[39;00m:\n\u001b[1;32m    679\u001b[0m     \u001b[39m# TODO(https://github.com/pytorch/pytorch/issues/76750)\u001b[39;00m\n\u001b[1;32m    680\u001b[0m     \u001b[39mself\u001b[39m\u001b[39m.\u001b[39m_reset()  \u001b[39m# type: ignore[call-arg]\u001b[39;00m\n\u001b[0;32m--> 681\u001b[0m data \u001b[39m=\u001b[39m \u001b[39mself\u001b[39;49m\u001b[39m.\u001b[39;49m_next_data()\n\u001b[1;32m    682\u001b[0m \u001b[39mself\u001b[39m\u001b[39m.\u001b[39m_num_yielded \u001b[39m+\u001b[39m\u001b[39m=\u001b[39m \u001b[39m1\u001b[39m\n\u001b[1;32m    683\u001b[0m \u001b[39mif\u001b[39;00m \u001b[39mself\u001b[39m\u001b[39m.\u001b[39m_dataset_kind \u001b[39m==\u001b[39m _DatasetKind\u001b[39m.\u001b[39mIterable \u001b[39mand\u001b[39;00m \\\n\u001b[1;32m    684\u001b[0m         \u001b[39mself\u001b[39m\u001b[39m.\u001b[39m_IterableDataset_len_called \u001b[39mis\u001b[39;00m \u001b[39mnot\u001b[39;00m \u001b[39mNone\u001b[39;00m \u001b[39mand\u001b[39;00m \\\n\u001b[1;32m    685\u001b[0m         \u001b[39mself\u001b[39m\u001b[39m.\u001b[39m_num_yielded \u001b[39m>\u001b[39m \u001b[39mself\u001b[39m\u001b[39m.\u001b[39m_IterableDataset_len_called:\n",
      "File \u001b[0;32m~/miniconda3/lib/python3.9/site-packages/torch/utils/data/dataloader.py:722\u001b[0m, in \u001b[0;36m_SingleProcessDataLoaderIter._next_data\u001b[0;34m(self)\u001b[0m\n\u001b[1;32m    720\u001b[0m index \u001b[39m=\u001b[39m \u001b[39mself\u001b[39m\u001b[39m.\u001b[39m_next_index()  \u001b[39m# may raise StopIteration\u001b[39;00m\n\u001b[1;32m    721\u001b[0m data \u001b[39m=\u001b[39m \u001b[39mself\u001b[39m\u001b[39m.\u001b[39m_dataset_fetcher\u001b[39m.\u001b[39mfetch(index)  \u001b[39m# may raise StopIteration\u001b[39;00m\n\u001b[0;32m--> 722\u001b[0m \u001b[39mif\u001b[39;00m \u001b[39mself\u001b[39;49m\u001b[39m.\u001b[39;49m_pin_memory:\n\u001b[1;32m    723\u001b[0m     data \u001b[39m=\u001b[39m _utils\u001b[39m.\u001b[39mpin_memory\u001b[39m.\u001b[39mpin_memory(data, \u001b[39mself\u001b[39m\u001b[39m.\u001b[39m_pin_memory_device)\n\u001b[1;32m    724\u001b[0m \u001b[39mreturn\u001b[39;00m data\n",
      "\u001b[0;31mKeyboardInterrupt\u001b[0m: "
     ]
    }
   ],
   "source": [
    "loss_fn = F.mse_loss\n",
    "def fit(num_epochs, model, loss_fn, opt):\n",
    "    val_best  = 26\n",
    "    for epoch in range(num_epochs):        \n",
    "        for xb,yb in train_dl:            \n",
    "            pred = model(xb)\n",
    "            loss = loss_fn(pred, yb)\n",
    "            loss.backward()\n",
    "            opt.step()\n",
    "            opt.zero_grad()\n",
    "        if epoch % 10 == 0:\n",
    "            loss_val = loss.item()\n",
    "            print(loss_val, epoch)            \n",
    "            for v_xb,v_yb in val_dl:\n",
    "                result = model(v_xb)     \n",
    "                val_err = torch.mean(abs(v_yb - result) / v_yb).item() * 100                    \n",
    "                print(\"val_err: \", val_err)\n",
    "            if val_err < val_best:\n",
    "                val_best = val_err\n",
    "                torch.save(model.state_dict(), f\"throttle_{str(val_err).replace('.', '_')[:5]}.pth\")\n",
    "    \n",
    "class SimpleNet(nn.Module):    \n",
    "    def __init__(self):\n",
    "        super().__init__()\n",
    "        self.linear1 = nn.Linear(58, 256)                \n",
    "        self.linear2 = nn.Linear(256, 58)        \n",
    "        self.linear3 = nn.Linear(58, 1)\n",
    "        \n",
    "        self.act1 = nn.ReLU() # Activation function        \n",
    "        self.act2 = nn.ReLU() # Activation function        \n",
    "        \n",
    "            \n",
    "    # Perform the computation\n",
    "    def forward(self, x):                \n",
    "        x1 = self.linear1(x)\n",
    "        x1_act = self.act1(x1)\n",
    "        x2 = self.linear2(x1_act)\n",
    "        x2_act = self.act2(x2) + x\n",
    "        x3 = self.linear3(x2_act)\n",
    "        return x3\n",
    "\n",
    "model = SimpleNet().cuda()\n",
    "opt = torch.optim.SGD(model.parameters(), 1e-6, momentum=0.9)\n",
    "fit(1000, model, loss_fn, opt)"
   ]
  },
  {
   "cell_type": "code",
   "execution_count": null,
   "metadata": {},
   "outputs": [],
   "source": [
    "len(test)"
   ]
  },
  {
   "cell_type": "code",
   "execution_count": null,
   "metadata": {},
   "outputs": [],
   "source": [
    "# low_days = ['2021-07-03', '2021-07-04', '2021-07-10', '2021-07-11', '2021-07-17', '2021-07-18', '2021-07-24', '2021-07-25', '2021-07-31', '2021-08-01', '2021-08-07', '2021-08-08', '2021-08-14', '2021-08-15', '2021-08-21', '2021-08-22', '2021-08-28', '2021-08-29', '2021-09-04', '2021-09-05', '2021-09-11', '2021-09-12', '2021-09-18', '2021-09-19', '2021-09-25', '2021-09-26', '2021-10-02', '2021-10-03', '2021-10-09', '2021-10-10', '2021-10-16', '2021-10-17', '2021-10-23', '2021-10-24', '2021-10-30', '2021-10-31', '2021-11-06', '2021-11-07', '2021-11-13', '2021-11-14', '2021-11-20', '2021-11-21', '2021-11-27', '2021-11-28', '2021-12-04', '2021-12-05', '2021-12-11', '2021-12-12', '2021-12-18', '2021-12-19', '2021-12-25', '2021-12-26', '2021/06/05', '2021/06/06', '2021/06/13', '2021/06/19', '2021/06/20', '2021/06/27', '2021/06/30', '2021/07/02', '2021/07/03', '2021/07/04', '2021/07/05', '2021/07/11', '2021/07/17', '2021/07/18', '2021/07/25', '2021/07/31', '2021/08/01', '2021/08/08', '2021/08/14', '2021/08/15', '2021/08/22', '2021/08/28', '2021/08/29', '2021/09/04', '2021/09/05', '2021/09/06', '2021/09/12', '2021/09/18', '2021/09/19', '2021/09/26', '2021/10/02', '2021/10/03', '2021/10/10', '2021/10/16', '2021/10/17', '2021/10/24', '2021/10/30', '2021/10/31', '2021/11/07', '2021/11/13', '2021/11/14', '2021/11/21', '2021/11/25', '2021/11/26', '2021/11/27', '2021/11/28', '2021/12/05', '2021/12/11', '2021/12/12', '2021/12/19', '2021/12/23', '2021/12/24', '2021/12/25', '2021/12/26', '2021/12/31', '2022-01-01', '2022-01-02', '2022-01-08', '2022-01-09', '2022-01-15', '2022-01-16', '2022-01-22', '2022-01-23', '2022-01-29', '2022-01-30', '2022-02-05', '2022-02-06', '2022-02-12', '2022-02-13', '2022-02-19', '2022-02-20', '2022-02-26', '2022-02-27', '2022-03-05', '2022-03-06', '2022-03-12', '2022-03-13', '2022-03-19', '2022-03-20', '2022-03-26', '2022-03-27', '2022-04-02', '2022-04-03', '2022-04-09', '2022-04-10', '2022-04-16', '2022-04-17', '2022-04-23', '2022-04-24', '2022-04-30', '2022-05-01', '2022-05-07', '2022-05-08', '2022-05-14', '2022-05-15', '2022-05-21', '2022-05-22', '2022-05-28', '2022-05-29', '2022-06-04', '2022-06-05', '2022-06-11', '2022-06-12', '2022-06-18', '2022-06-19', '2022-06-25', '2022-06-26', '2022-07-02', '2022-07-03', '2022-07-09', '2022-07-10', '2022-07-16', '2022-07-17', '2022-07-23', '2022-07-24', '2022-07-30', '2022-07-31', '2022-08-06', '2022-08-07', '2022-08-13', '2022-08-14', '2022-08-20', '2022-08-21', '2022-08-27', '2022-08-28', '2022-09-03', '2022-09-04', '2022-09-10', '2022-09-11', '2022-09-17', '2022-09-18', '2022-09-24', '2022-09-25', '2022-10-01', '2022-10-02', '2022-10-08', '2022-10-09', '2022-10-15', '2022-10-16', '2022-10-22', '2022-10-23', '2022-10-29', '2022-10-30', '2022-11-05', '2022-11-06', '2022/01/01', '2022/01/02', '2022/01/03', '2022/01/08', '2022/01/09', '2022/01/16', '2022/01/22', '2022/01/23', '2022/01/30', '2022/02/04', '2022/02/05', '2022/02/06', '2022/02/13', '2022/02/19', '2022/02/20', '2022/02/27', '2022/03/05', '2022/03/06', '2022/03/12', '2022/03/13', '2022/03/19', '2022/03/20', '2022/03/27', '2022/04/02', '2022/04/03', '2022/04/10', '2022/04/15', '2022/04/16', '2022/04/17', '2022/04/23', '2022/04/24', '2022/04/30', '2022/05/01', '2022/05/08', '2022/05/14', '2022/05/15', '2022/05/22', '2022/05/28', '2022/05/29', '2022/05/30', '2022/06/05', '2022/06/11', '2022/06/12', '2022/06/18', '2022/06/19', '2022/06/25', '2022/06/26', '2022/06/30', '2022/07/02', '2022/07/03', '2022/07/04', '2022/07/05', '2022/07/10', '2022/07/16', '2022/07/17', '2022/07/23', '2022/07/24', '2022/07/30', '2022/07/31', '2022/08/06', '2022/08/07', '2022/08/13', '2022/08/14', '2022/08/20', '2022/08/21', '2022/08/27', '2022/08/28', '2022/09/03', '2022/09/04', '2022/09/05', '2022/09/10', '2022/09/11', '2022/09/17', '2022/09/18', '2022/09/24', '2022/09/25', '2022/10/01', '2022/10/02', '2022/10/08', '2022/10/09', '2022/10/15', '2022/10/16', '2022/10/22', '2022/10/23', '2022/10/29', '2022/10/30', '2022/11/05', '2022/11/06']\n",
    "# def f(mo):       \n",
    "#     mo_logs = vip_logs[vip_logs.order_number == mo].copy()\n",
    "#     mo_logs = mo_logs.drop_duplicates(subset=['sequence_code'], keep='first')\n",
    "#     mo_logs['diff'] = mo_logs['time_out'].diff(periods=1).astype('timedelta64[m]')\n",
    "#     mo_logs['start'] = mo_logs['time_out'].shift(1)    \n",
    "#     mo_logs.loc[mo_logs['diff'] > THROTTLE_MIN, 'diff'] = THROTTLE_MIN\n",
    "#     try:\n",
    "#         # for index, row in mo_logs.iloc[1:].iterrows():                \n",
    "#         #     if row['diff'] > THROTTLE_MIN:\n",
    "#         #         end = row.time_out.strftime(\"%Y-%m-%d\")\n",
    "#         #         start = row.start.strftime(\"%Y-%m-%d\")\n",
    "#         #         offday_count = len(list(x for x in low_days if start < x < end))             \n",
    "#         #         row['diff'] -= offday_count * 1440\n",
    "#         #         if row['diff'] > THROTTLE_MIN:\n",
    "#         #             # print(index)\n",
    "#         #             mo_logs.loc[index, 'diff'] = THROTTLE_MIN    \n",
    "#         period = mo_logs['diff'].sum() / 60\n",
    "#         # return mo, period, mo_logs.iloc[0]['time_out']\n",
    "#         return mo, period, len(mo_logs)\n",
    "#     except Exception as e: print(mo, e)\n",
    "\n",
    "# b_types = ['-III', '(GK)', '(GP)', '-II']\n",
    "# p_types = ['K','E','P','F','T','S','M','H']\n",
    "# for i in b_types:\n",
    "#     vip_orders[i] = 0\n",
    "# for i in p_types:\n",
    "#     vip_orders[i] = 0\n",
    "# vip_orders['custom'] = 0\n",
    "# for index, row in vip_orders.iterrows():\n",
    "#     try:\n",
    "#         des = row['item_description'].split(' RAIL')[0].split('L')[1]\n",
    "#         for bt in b_types:\n",
    "#             if bt in des:\n",
    "#                 vip_orders.loc[index, bt] = 1\n",
    "#                 des = des.replace(bt, '')\n",
    "#         print(des)\n",
    "#         for pt in p_types:\n",
    "#             if pt in des:            \n",
    "#                 vip_orders.loc[index, pt] = 1\n",
    "#     except Exception as e:\n",
    "#         vip_orders.loc[index, 'custom'] = 1"
   ]
  }
 ],
 "metadata": {
  "kernelspec": {
   "display_name": "Python 3.9.13 ('base')",
   "language": "python",
   "name": "python3"
  },
  "language_info": {
   "codemirror_mode": {
    "name": "ipython",
    "version": 3
   },
   "file_extension": ".py",
   "mimetype": "text/x-python",
   "name": "python",
   "nbconvert_exporter": "python",
   "pygments_lexer": "ipython3",
   "version": "3.9.13"
  },
  "orig_nbformat": 4,
  "vscode": {
   "interpreter": {
    "hash": "2690c4ade938f830d2b677a28d44942311eb5bf365c90b058b9292674ef26d09"
   }
  }
 },
 "nbformat": 4,
 "nbformat_minor": 2
}
