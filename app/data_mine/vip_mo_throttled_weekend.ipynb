{
 "cells": [
  {
   "cell_type": "code",
   "execution_count": 1,
   "metadata": {},
   "outputs": [],
   "source": [
    "import pandas as pd\n",
    "import multiprocessing as mp\n",
    "import numpy as np\n",
    "# import datetime\n",
    "logs = pd.read_csv(\"./data_nov/logs_nov.csv\")\n",
    "proc = pd.read_csv(\"./data_nov/processes_nov.csv\")\n",
    "orders = pd.read_csv(\"./data_nov/orders_nov.csv\")\n",
    "logs.time_out = pd.to_datetime(logs.time_out, infer_datetime_format=True)\n",
    "orders.set_index('order_number', inplace=True)"
   ]
  },
  {
   "cell_type": "code",
   "execution_count": 2,
   "metadata": {},
   "outputs": [],
   "source": [
    "vip_orders = orders[(~orders.product_length.isnull()) & (orders.order_status == 55) & orders.reference_number.str.startswith('HK') & (orders.item_description.str.contains('RAIL'))].copy()\n",
    "vip_orders['y'] = 0\n",
    "vip_orders['steps'] = 0\n",
    "vip_mos = vip_orders.index.values.tolist()\n",
    "vip_logs = logs[(logs.order_number.isin(vip_mos)) & (logs.quantity_complete != 0)].copy()\n",
    "vip_logs.sort_values('sequence_code', ascending=True, inplace=True)\n",
    "drop_cols = ['customer_job_number', 'reference_number', 'item_number', 'product_variant', 'product_clearance',  'product_block_count', 'product_g1', 'product_pitch',  'order_status', 'order_release_code', 'order_customer_name', 'order_replied_due', 'order_scheduled_due', 'order_original_due', 'order_scheduled_shipping_date', 'order_class', 'promise_date', 'sales_item_number', 'printed_due']\n",
    "vip_orders = vip_orders.drop(columns=drop_cols)\n",
    "# facility_ids = ['B0021', 'F0010', 'B0010', 'K0010', 'K0020', 'B0012', 'B0020', 'B0040', 'B0070', 'B0080', 'C0040', 'C0060', 'C0080', 'C0010','C0020', 'J0020', 'H0020', 'D0010', 'H0070', 'H0010', 'D0020','H0030', 'C0050', 'C0100', 'C0110', 'J0025', 'B0025', 'C0075','B0060', 'B0090', 'C0090', 'B0030', 'C0070', 'K0011', 'H0046','H0050', 'B0050', 'H0060', 'B0015', 'H0045', 'B0062', 'J0060','H0051', 'J0050', 'C0030', 'C0031']\n",
    "# vip_orders[facility_ids] = 0\n",
    "vip_orders.head()\n",
    "vip_logs['time_out'] = pd.to_datetime(vip_logs['time_out'])\n"
   ]
  },
  {
   "cell_type": "code",
   "execution_count": 3,
   "metadata": {},
   "outputs": [],
   "source": [
    "vip_mos = vip_orders.index.values.tolist()"
   ]
  },
  {
   "cell_type": "code",
   "execution_count": null,
   "metadata": {},
   "outputs": [],
   "source": [
    "THROTTLE_MIN = 1800\n",
    "off_days = ['2021-09-04', '2021-09-05', '2021-09-11', '2021-09-12', '2021-09-18', '2021-09-19', '2021-09-25', '2021-09-26', '2021-10-02', '2021-10-03', '2021-10-09', '2021-10-10', '2021-10-16', '2021-10-17', '2021-10-23', '2021-10-24', '2021-10-30', '2021-10-31', '2021-11-06', '2021-11-07', '2021-11-13', '2021-11-14', '2021-11-20', '2021-11-21', '2021-11-25', '2021-11-26', '2021-11-27', '2021-11-28', '2021-12-04', '2021-12-05', '2021-12-11', '2021-12-12', '2021-12-18', '2021-12-19', '2021-12-23', '2021-12-24', '2021-12-25', '2021-12-26', '2022-01-01', '2022-01-02', '2022-01-03', '2022-01-08', '2022-01-09', '2022-01-15', '2022-01-16', '2022-01-22', '2022-01-23', '2022-01-29', '2022-01-30', '2022-02-05', '2022-02-06', '2022-02-12', '2022-02-13', '2022-02-19', '2022-02-20', '2022-02-26', '2022-02-27', '2022-03-05', '2022-03-06', '2022-03-12', '2022-03-13', '2022-03-19', '2022-03-20', '2022-03-26', '2022-03-27', '2022-04-02', '2022-04-03', '2022-04-09', '2022-04-10', '2022-04-16', '2022-04-17', '2022-04-23', '2022-04-24', '2022-04-30', '2022-05-01', '2022-05-07', '2022-05-08', '2022-05-14', '2022-05-15', '2022-05-21', '2022-05-22', '2022-05-28', '2022-05-29', '2022-05-30', '2022-06-04', '2022-06-05', '2022-06-11', '2022-06-12', '2022-06-18', '2022-06-19', '2022-06-25', '2022-06-26', '2022-07-02', '2022-07-03', '2022-07-04', '2022-07-05', '2022-07-09', '2022-07-10', '2022-07-16', '2022-07-17', '2022-07-23', '2022-07-24', '2022-07-30', '2022-07-31', '2022-08-06', '2022-08-07', '2022-08-13', '2022-08-14', '2022-08-20', '2022-08-21', '2022-08-27', '2022-08-28', '2022-09-03', '2022-09-04', '2022-09-05', '2022-09-10', '2022-09-11', '2022-09-17', '2022-09-18', '2022-09-24', '2022-09-25', '2022-10-01', '2022-10-02', '2022-10-08', '2022-10-09', '2022-10-15', '2022-10-16', '2022-10-22', '2022-10-23', '2022-10-29', '2022-10-30', '2022-11-05', '2022-11-06']\n",
    "o_days = pd.to_datetime(off_days, infer_datetime_format=True, utc=True)\n",
    "def cal_days (row):\n",
    "    return len(list(x for x in o_days if (row.start < x < row.time_out)))\n",
    "\n",
    "def f(mo):       \n",
    "    mo_logs = vip_logs[vip_logs.order_number == mo].sort_values('sequence_code')    \n",
    "    mo_logs = mo_logs.drop_duplicates(subset=['sequence_code'], keep='first')    \n",
    "    mo_logs = mo_logs.drop_duplicates(subset=['facility_id'], keep='first')    \n",
    "    mo_logs['start'] = mo_logs['time_out'].shift(1)\n",
    "    mo_logs['diff'] = mo_logs['time_out'].diff(periods=1).astype('timedelta64[m]')                \n",
    "    mo_logs['wcount'] = 0\n",
    "    mo_logs['diff2'] = 0\n",
    "    \n",
    "    if len(mo_logs[mo_logs['diff'] < 0]):\n",
    "        print('negative', mo)\n",
    "        return\n",
    "    try:            \n",
    "        # mo_logs['w_count'] = mologs.applylen(list(x for x in o_days if (mo_logs['start'] < x < mo_logs.time_out)))\n",
    "        # for index, row in mo_logs.iterrows():\n",
    "        #     mo_logs[index, 'wcount'] = len(list(x for x in o_days if (row['start'] < x < row['time_out'])))        \n",
    "        for r in mo_logs.itertuples():\n",
    "            mo_logs.loc[r[0], 'wcount'] = len(list(x for x in o_days if (r.start < x < r.time_out)))        \n",
    "        mo_logs['diff2'] = mo_logs['diff'] - mo_logs['wcount'] * 1440\n",
    "        # mo_logs['diff2'] = np.where(mo_logs['diff2'] > THROTTLE_MIN, THROTTLE_MIN, mo_logs['diff2'])\n",
    "        mo_logs.loc[mo_logs['diff2'] > THROTTLE_MIN, 'diff2'] = THROTTLE_MIN        \n",
    "        period = mo_logs['diff2'].sum() / 60\n",
    "        durations_on_facilities = mo_logs.pivot(index='order_number', columns='facility_id', values='diff2')\n",
    "        return mo, durations_on_facilities, period, len(mo_logs) \n",
    "    except Exception as e: print(mo, e)\n",
    "\n",
    "def append_res(result):        \n",
    "    for i in result:\n",
    "        if i:\n",
    "            mo, series, period, steps = i\n",
    "            try:                                \n",
    "                for f in series.columns:\n",
    "                    vip_orders.loc[mo, f] = series.loc[mo, f]\n",
    "                vip_orders.loc[mo, 'y'] = period\n",
    "                vip_orders.loc[mo, 'steps'] = steps\n",
    "            except Exception as e: print(e)\n",
    "\n",
    "if __name__ == \"__main__\":        \n",
    "    with mp.Pool(16) as pool:        \n",
    "        print('pool started')\n",
    "        results = pool.map_async(f, vip_mos, callback = append_res)\n",
    "        results.wait() \n",
    "print(\"done\")\n",
    "vip_orders.describe()"
   ]
  },
  {
   "cell_type": "code",
   "execution_count": null,
   "metadata": {},
   "outputs": [],
   "source": [
    "vip_orders.to_csv('vip_weekend.csv')"
   ]
  },
  {
   "cell_type": "code",
   "execution_count": null,
   "metadata": {},
   "outputs": [],
   "source": [
    "vip_orders.head(50)"
   ]
  },
  {
   "cell_type": "code",
   "execution_count": null,
   "metadata": {},
   "outputs": [],
   "source": [
    "vip_orders.head(50)"
   ]
  },
  {
   "cell_type": "code",
   "execution_count": null,
   "metadata": {},
   "outputs": [],
   "source": [
    "b_types = ['-III', '(GK)', '(GP)', '-II']\n",
    "p_types = ['K','E','P','F','T','S','M','H']\n",
    "vip_orders = vip_orders[vip_orders['y'] > 3]\n",
    "des = vip_orders['item_description']\n",
    "# vip_orders.loc[vip_orders.y < 8, 'y'] = 8\n",
    "\n"
   ]
  },
  {
   "cell_type": "code",
   "execution_count": null,
   "metadata": {},
   "outputs": [],
   "source": [
    "test = vip_orders.copy()\n",
    "test['ZLE'] = np.where(test['item_description'].str.count('LE'), 1, 0)\n",
    "test['ZGK'] = np.where(test['item_description'].str.count('GK'), 1, 0)\n",
    "test['ZLT'] = np.where(test['item_description'].str.count('LT'), 1, 0)\n",
    "test['ZGP'] = np.where(test['item_description'].str.count('GP'), 1, 0)\n",
    "test['ZGP'] = np.where(test['item_description'].str.count('GP'), 1, 0)\n",
    "# cols_a = ['B0012', 'B0015', 'B0021', 'B0025', 'B0030', 'B0040', 'B0050', 'B0060', 'B0062', 'B0070', 'B0080', 'C0020', 'C0030', 'C0031', 'C0035', 'C0040', 'C0050', 'C0060', 'C0070', 'C0075', 'C0080', 'C0090', 'C0100', 'C0110', 'C0120', 'D0010', 'D0020', 'F0010', 'F0020', 'GL010', 'GL030', 'GL130', 'GL140', 'H0010', 'H0020', 'H0030', 'H0045', 'H0046', 'H0050', 'H0051', 'H0060', 'H0070', 'J0020', 'J0025', 'J0050', 'J0060', 'K0010', 'K0011', 'K0020', 'ZGK', 'ZGP', 'ZLE', 'ZLT', ]\n",
    "cols_b = ['B0012', 'B0015', 'B0021', 'B0025', 'B0030', 'B0040', 'B0050', 'B0060', 'B0070', 'B0080', 'C0020', 'C0030', 'C0031', 'C0035', 'C0040', 'C0050', 'C0060', 'C0070', 'C0075', 'C0080', 'C0090', 'C0100', 'C0110', 'C0120', 'D0010', 'D0020', 'F0010', 'F0020', 'GL010', 'GL030', 'GL130', 'GL140', 'H0010', 'H0020', 'H0030', 'H0045', 'H0046', 'H0050', 'H0051', 'H0060', 'H0070', 'J0020', 'J0025', 'J0050', 'J0060', 'K0010', 'K0011', 'K0020', 'ZGK', 'ZGP', 'ZLE', 'ZLT', 'order_quantity', 'product_family', 'product_length', 'product_model', 'steps', 'y']\n",
    "# cols_b = ['ZGK', 'ZGP', 'ZLE', 'ZLT', 'order_quantity', 'product_family', 'product_length', 'product_model', 'steps', 'y']\n",
    "cols_a = ['B0012', 'B0015', 'B0021', 'B0025', 'B0030', 'B0040', 'B0050', 'B0060', 'B0070', 'B0080', 'C0020', 'C0030', 'C0031', 'C0035', 'C0040', 'C0050', 'C0060', 'C0070', 'C0075', 'C0080', 'C0090', 'C0100', 'C0110', 'C0120', 'D0010', 'D0020', 'F0010', 'F0020', 'GL010', 'GL030', 'GL130', 'GL140', 'H0010', 'H0020', 'H0030', 'H0045', 'H0046', 'H0050', 'H0051', 'H0060', 'H0070', 'J0020', 'J0025', 'J0050', 'J0060', 'K0010', 'K0011', 'K0020', 'ZGK', 'ZGP', 'ZLE', 'ZLT', ]\n",
    "for i in cols_a:\n",
    "    test[i] = np.where(test[i].isnull(), 0, 1)\n",
    "\n",
    "# cols_c = ['ZGK', 'ZGP', 'ZLE', 'ZLT', 'order_quantity', 'product_family', 'product_length', 'product_model', 'steps', 'y']\n",
    "test = test[cols_b]\n",
    "test['product_length'] = test['product_length'] / 1000\n",
    "print(len(test.columns))\n",
    "dimension = len(test.columns) - 1"
   ]
  },
  {
   "cell_type": "code",
   "execution_count": null,
   "metadata": {},
   "outputs": [],
   "source": [
    "test.head(50)"
   ]
  },
  {
   "cell_type": "code",
   "execution_count": null,
   "metadata": {},
   "outputs": [],
   "source": [
    "\n"
   ]
  },
  {
   "cell_type": "code",
   "execution_count": null,
   "metadata": {},
   "outputs": [],
   "source": [
    "list_classify = [\"product_family\", \"product_model\"]\n",
    "for i in list_classify:    \n",
    "    test[i], uniques = pd.factorize(test[i], sort=True)\n",
    "    print(uniques)\n",
    "classfied = test[test.product_family.isin(range(0, 9))]\n",
    "pivot = int(len(classfied) * .2)\n",
    "shuffled = classfied.sample(frac=1)\n",
    "train = shuffled.iloc[pivot:].copy()\n",
    "val = shuffled.iloc[:pivot].copy()\n",
    "train = train.astype(float)\n",
    "val = val.astype(float)\n",
    "train.to_csv('train_throttled_80_mo_24h.csv')\n",
    "val.to_csv('val_throttled_80_mo_24h.csv')"
   ]
  },
  {
   "cell_type": "code",
   "execution_count": null,
   "metadata": {},
   "outputs": [],
   "source": [
    "import torch\n",
    "import numpy as np\n",
    "import pandas as pd\n",
    "from torch.utils.data import Dataset, DataLoader\n",
    "import torch.nn as nn\n",
    "import torch.nn.functional as F\n",
    "\n",
    "class MyDataset(Dataset): \n",
    "  def __init__(self,data):     \n",
    "    super(MyDataset).__init__()\n",
    "    x=data.iloc[:,0:dimension].values\n",
    "    y=data.iloc[:,dimension].values     \n",
    "    self.x_train=torch.tensor(x,dtype=torch.float32).cuda()    \n",
    "    self.y_train=torch.tensor(y,dtype=torch.float32).view(-1, 1).cuda()    \n",
    " \n",
    "  def __len__(self):\n",
    "    return len(self.y_train)   \n",
    "  def __getitem__(self,idx):\n",
    "    return self.x_train[idx],self.y_train[idx]\n",
    "\n",
    "train_set=MyDataset(train)\n",
    "val_set=MyDataset(val)\n",
    "train_dl=DataLoader(train_set, batch_size=256, shuffle=True, num_workers=0)\n",
    "val_dl=DataLoader(val_set, batch_size=len(val_set))"
   ]
  },
  {
   "cell_type": "code",
   "execution_count": null,
   "metadata": {},
   "outputs": [],
   "source": [
    "loss_fn = F.mse_loss\n",
    "def fit(num_epochs, model, loss_fn, opt):\n",
    "    val_best  = 26\n",
    "    for epoch in range(num_epochs):        \n",
    "        for xb,yb in train_dl:            \n",
    "            pred = model(xb)\n",
    "            loss = loss_fn(pred, yb)\n",
    "            loss.backward()\n",
    "            opt.step()\n",
    "            opt.zero_grad()\n",
    "        if epoch % 50 == 0:\n",
    "            loss_val = loss.item()\n",
    "            print(loss_val, epoch)            \n",
    "            for v_xb,v_yb in val_dl:\n",
    "                result = model(v_xb)     \n",
    "                val_err = torch.mean(abs(v_yb - result) / v_yb).item() * 100                    \n",
    "                print(\"val_err: \", val_err)\n",
    "            if val_err < val_best:\n",
    "                val_best = val_err\n",
    "                torch.save(model.state_dict(), f\"throttle_{str(val_err).replace('.', '_')[:5]}.pth\")\n",
    "    \n",
    "class SimpleNet(nn.Module):    \n",
    "    def __init__(self):\n",
    "        super().__init__()\n",
    "        self.linear1 = nn.Linear(dimension, 256)\n",
    "        self.linear2 = nn.Linear(256, 128)        \n",
    "        self.linear3 = nn.Linear(128, 64)\n",
    "        self.linear4 = nn.Linear(64, 1)\n",
    "        \n",
    "        self.act1 = nn.ReLU() # Activation function        \n",
    "        self.act2 = nn.ReLU() # Activation function\n",
    "        self.act3 = nn.ReLU() # Activation function\n",
    "            \n",
    "    # Perform the computation\n",
    "    def forward(self, x):                \n",
    "        x = self.linear1(x)\n",
    "        x = self.act1(x)\n",
    "        x = self.linear2(x)\n",
    "        x = self.act2(x)\n",
    "        x = self.linear3(x)        \n",
    "        x = self.act3(x)\n",
    "        x = self.linear4(x)        \n",
    "        return x\n",
    "\n",
    "model = SimpleNet().cuda()\n",
    "opt = torch.optim.SGD(model.parameters(), 1e-6, momentum=0.9)\n",
    "fit(1000, model, loss_fn, opt)"
   ]
  },
  {
   "cell_type": "code",
   "execution_count": null,
   "metadata": {},
   "outputs": [],
   "source": [
    "len(test)"
   ]
  },
  {
   "cell_type": "code",
   "execution_count": null,
   "metadata": {},
   "outputs": [],
   "source": [
    "# low_days = ['2021-07-03', '2021-07-04', '2021-07-10', '2021-07-11', '2021-07-17', '2021-07-18', '2021-07-24', '2021-07-25', '2021-07-31', '2021-08-01', '2021-08-07', '2021-08-08', '2021-08-14', '2021-08-15', '2021-08-21', '2021-08-22', '2021-08-28', '2021-08-29', '2021-09-04', '2021-09-05', '2021-09-11', '2021-09-12', '2021-09-18', '2021-09-19', '2021-09-25', '2021-09-26', '2021-10-02', '2021-10-03', '2021-10-09', '2021-10-10', '2021-10-16', '2021-10-17', '2021-10-23', '2021-10-24', '2021-10-30', '2021-10-31', '2021-11-06', '2021-11-07', '2021-11-13', '2021-11-14', '2021-11-20', '2021-11-21', '2021-11-27', '2021-11-28', '2021-12-04', '2021-12-05', '2021-12-11', '2021-12-12', '2021-12-18', '2021-12-19', '2021-12-25', '2021-12-26', '2021/06/05', '2021/06/06', '2021/06/13', '2021/06/19', '2021/06/20', '2021/06/27', '2021/06/30', '2021/07/02', '2021/07/03', '2021/07/04', '2021/07/05', '2021/07/11', '2021/07/17', '2021/07/18', '2021/07/25', '2021/07/31', '2021/08/01', '2021/08/08', '2021/08/14', '2021/08/15', '2021/08/22', '2021/08/28', '2021/08/29', '2021/09/04', '2021/09/05', '2021/09/06', '2021/09/12', '2021/09/18', '2021/09/19', '2021/09/26', '2021/10/02', '2021/10/03', '2021/10/10', '2021/10/16', '2021/10/17', '2021/10/24', '2021/10/30', '2021/10/31', '2021/11/07', '2021/11/13', '2021/11/14', '2021/11/21', '2021/11/25', '2021/11/26', '2021/11/27', '2021/11/28', '2021/12/05', '2021/12/11', '2021/12/12', '2021/12/19', '2021/12/23', '2021/12/24', '2021/12/25', '2021/12/26', '2021/12/31', '2022-01-01', '2022-01-02', '2022-01-08', '2022-01-09', '2022-01-15', '2022-01-16', '2022-01-22', '2022-01-23', '2022-01-29', '2022-01-30', '2022-02-05', '2022-02-06', '2022-02-12', '2022-02-13', '2022-02-19', '2022-02-20', '2022-02-26', '2022-02-27', '2022-03-05', '2022-03-06', '2022-03-12', '2022-03-13', '2022-03-19', '2022-03-20', '2022-03-26', '2022-03-27', '2022-04-02', '2022-04-03', '2022-04-09', '2022-04-10', '2022-04-16', '2022-04-17', '2022-04-23', '2022-04-24', '2022-04-30', '2022-05-01', '2022-05-07', '2022-05-08', '2022-05-14', '2022-05-15', '2022-05-21', '2022-05-22', '2022-05-28', '2022-05-29', '2022-06-04', '2022-06-05', '2022-06-11', '2022-06-12', '2022-06-18', '2022-06-19', '2022-06-25', '2022-06-26', '2022-07-02', '2022-07-03', '2022-07-09', '2022-07-10', '2022-07-16', '2022-07-17', '2022-07-23', '2022-07-24', '2022-07-30', '2022-07-31', '2022-08-06', '2022-08-07', '2022-08-13', '2022-08-14', '2022-08-20', '2022-08-21', '2022-08-27', '2022-08-28', '2022-09-03', '2022-09-04', '2022-09-10', '2022-09-11', '2022-09-17', '2022-09-18', '2022-09-24', '2022-09-25', '2022-10-01', '2022-10-02', '2022-10-08', '2022-10-09', '2022-10-15', '2022-10-16', '2022-10-22', '2022-10-23', '2022-10-29', '2022-10-30', '2022-11-05', '2022-11-06', '2022/01/01', '2022/01/02', '2022/01/03', '2022/01/08', '2022/01/09', '2022/01/16', '2022/01/22', '2022/01/23', '2022/01/30', '2022/02/04', '2022/02/05', '2022/02/06', '2022/02/13', '2022/02/19', '2022/02/20', '2022/02/27', '2022/03/05', '2022/03/06', '2022/03/12', '2022/03/13', '2022/03/19', '2022/03/20', '2022/03/27', '2022/04/02', '2022/04/03', '2022/04/10', '2022/04/15', '2022/04/16', '2022/04/17', '2022/04/23', '2022/04/24', '2022/04/30', '2022/05/01', '2022/05/08', '2022/05/14', '2022/05/15', '2022/05/22', '2022/05/28', '2022/05/29', '2022/05/30', '2022/06/05', '2022/06/11', '2022/06/12', '2022/06/18', '2022/06/19', '2022/06/25', '2022/06/26', '2022/06/30', '2022/07/02', '2022/07/03', '2022/07/04', '2022/07/05', '2022/07/10', '2022/07/16', '2022/07/17', '2022/07/23', '2022/07/24', '2022/07/30', '2022/07/31', '2022/08/06', '2022/08/07', '2022/08/13', '2022/08/14', '2022/08/20', '2022/08/21', '2022/08/27', '2022/08/28', '2022/09/03', '2022/09/04', '2022/09/05', '2022/09/10', '2022/09/11', '2022/09/17', '2022/09/18', '2022/09/24', '2022/09/25', '2022/10/01', '2022/10/02', '2022/10/08', '2022/10/09', '2022/10/15', '2022/10/16', '2022/10/22', '2022/10/23', '2022/10/29', '2022/10/30', '2022/11/05', '2022/11/06']\n",
    "# def f(mo):       \n",
    "#     mo_logs = vip_logs[vip_logs.order_number == mo].copy()\n",
    "#     mo_logs = mo_logs.drop_duplicates(subset=['sequence_code'], keep='first')\n",
    "#     mo_logs['diff'] = mo_logs['time_out'].diff(periods=1).astype('timedelta64[m]')\n",
    "#     mo_logs['start'] = mo_logs['time_out'].shift(1)    \n",
    "#     mo_logs.loc[mo_logs['diff'] > THROTTLE_MIN, 'diff'] = THROTTLE_MIN\n",
    "#     try:\n",
    "#         # for index, row in mo_logs.iloc[1:].iterrows():                \n",
    "#         #     if row['diff'] > THROTTLE_MIN:\n",
    "#         #         end = row.time_out.strftime(\"%Y-%m-%d\")\n",
    "#         #         start = row.start.strftime(\"%Y-%m-%d\")\n",
    "#         #         offday_count = len(list(x for x in low_days if start < x < end))             \n",
    "#         #         row['diff'] -= offday_count * 1440\n",
    "#         #         if row['diff'] > THROTTLE_MIN:\n",
    "#         #             # print(index)\n",
    "#         #             mo_logs.loc[index, 'diff'] = THROTTLE_MIN    \n",
    "#         period = mo_logs['diff'].sum() / 60\n",
    "#         # return mo, period, mo_logs.iloc[0]['time_out']\n",
    "#         return mo, period, len(mo_logs)\n",
    "#     except Exception as e: print(mo, e)\n",
    "\n",
    "# b_types = ['-III', '(GK)', '(GP)', '-II']\n",
    "# p_types = ['K','E','P','F','T','S','M','H']\n",
    "# for i in b_types:\n",
    "#     vip_orders[i] = 0\n",
    "# for i in p_types:\n",
    "#     vip_orders[i] = 0\n",
    "# vip_orders['custom'] = 0\n",
    "# for index, row in vip_orders.iterrows():\n",
    "#     try:\n",
    "#         des = row['item_description'].split(' RAIL')[0].split('L')[1]\n",
    "#         for bt in b_types:\n",
    "#             if bt in des:\n",
    "#                 vip_orders.loc[index, bt] = 1\n",
    "#                 des = des.replace(bt, '')\n",
    "#         print(des)\n",
    "#         for pt in p_types:\n",
    "#             if pt in des:            \n",
    "#                 vip_orders.loc[index, pt] = 1\n",
    "#     except Exception as e:\n",
    "#         vip_orders.loc[index, 'custom'] = 1"
   ]
  }
 ],
 "metadata": {
  "kernelspec": {
   "display_name": "Python 3.9.13 ('base')",
   "language": "python",
   "name": "python3"
  },
  "language_info": {
   "codemirror_mode": {
    "name": "ipython",
    "version": 3
   },
   "file_extension": ".py",
   "mimetype": "text/x-python",
   "name": "python",
   "nbconvert_exporter": "python",
   "pygments_lexer": "ipython3",
   "version": "3.9.13"
  },
  "orig_nbformat": 4,
  "vscode": {
   "interpreter": {
    "hash": "2690c4ade938f830d2b677a28d44942311eb5bf365c90b058b9292674ef26d09"
   }
  }
 },
 "nbformat": 4,
 "nbformat_minor": 2
}
